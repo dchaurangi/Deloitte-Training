{
 "cells": [
  {
   "cell_type": "code",
   "execution_count": 1,
   "metadata": {},
   "outputs": [
    {
     "name": "stdout",
     "output_type": "stream",
     "text": [
      "Enter the first value12\n",
      "Enter the second value25\n",
      "The sum of 12  and  25  is :  37\n",
      "The average of 12  and  25  is :  18\n"
     ]
    }
   ],
   "source": [
    "# Q1\n",
    "vara = eval(input(\"Enter the first value\"))\n",
    "varb = eval(input(\"Enter the second value\"))\n",
    "sum = vara + varb\n",
    "avg = int(sum/2)\n",
    "print(\"The sum of\",vara,\" and \",varb,\" is : \",sum)\n",
    "print(\"The average of\",vara,\" and \",varb,\" is : \",avg)"
   ]
  },
  {
   "cell_type": "code",
   "execution_count": 20,
   "metadata": {},
   "outputs": [
    {
     "name": "stdout",
     "output_type": "stream",
     "text": [
      "Enter the limit10\n",
      "Enter the numbers1\n",
      "Enter the numbers2\n",
      "Enter the numbers3\n",
      "Enter the numbers4\n",
      "Enter the numbers5\n",
      "Enter the numbers6\n",
      "Enter the numbers7\n",
      "Enter the numbers8\n",
      "Enter the numbers9\n",
      "Enter the numbers10\n",
      "The values of the list are\n",
      "1\n",
      "2\n",
      "3\n",
      "4\n",
      "5\n"
     ]
    }
   ],
   "source": [
    "#Q2\n",
    "lista = []\n",
    "limit = eval(input(\"Enter the limit\"))\n",
    "for i in range(limit):\n",
    "    temp=eval(input(\"Enter the numbers\"))\n",
    "    lista.append(temp)\n",
    "print(\"The values of the list are\")\n",
    "for i in range(limit):\n",
    "    if lista[i]>5 :\n",
    "        continue\n",
    "    else:\n",
    "        print(lista[i])\n"
   ]
  },
  {
   "cell_type": "code",
   "execution_count": 33,
   "metadata": {},
   "outputs": [
    {
     "name": "stdout",
     "output_type": "stream",
     "text": [
      "Enter the numbers45\n",
      "45  is an odd number and not divisible by 10\n"
     ]
    }
   ],
   "source": [
    "#Q3\n",
    "vara=eval(input(\"Enter the numbers\"))\n",
    "if vara % 2==0:\n",
    "    if vara % 10==0:\n",
    "        print(vara,\" is an even number and divisible by 10\")\n",
    "    else:\n",
    "        print(vara,\" is an even number but not divisible by 10\")\n",
    "else:\n",
    "    print(vara,\" is an odd number and not divisible by 10\")\n"
   ]
  },
  {
   "cell_type": "code",
   "execution_count": 31,
   "metadata": {},
   "outputs": [
    {
     "name": "stdout",
     "output_type": "stream",
     "text": [
      "Enter the first number12\n",
      "Enter the second number545\n",
      "Multiplication of  12  and  545 is :  6540\n",
      "Addition of  12  and  545 is :  557\n"
     ]
    }
   ],
   "source": [
    "#Q4\n",
    "vara=eval(input(\"Enter the first number\"))\n",
    "varb=eval(input(\"Enter the second number\"))\n",
    "mul = vara * varb\n",
    "print(\"Multiplication of \",vara,\" and \",varb,\"is : \",mul)\n",
    "if mul >= 500:\n",
    "    print(\"Addition of \",vara,\" and \",varb,\"is : \",vara+varb)\n",
    "else:\n",
    "    pass"
   ]
  },
  {
   "cell_type": "code",
   "execution_count": 5,
   "metadata": {},
   "outputs": [
    {
     "name": "stdout",
     "output_type": "stream",
     "text": [
      "7\n",
      "9\n",
      "11\n",
      "13\n",
      "15\n",
      "17\n",
      "19\n",
      "21\n",
      "23\n",
      "25\n",
      "27\n",
      "29\n",
      "31\n",
      "33\n",
      "35\n",
      "37\n",
      "39\n"
     ]
    }
   ],
   "source": [
    "#Q5\n",
    "sum=0\n",
    "for i in range(4,21):\n",
    "    sum  = i+i-1\n",
    "    print(sum)"
   ]
  },
  {
   "cell_type": "code",
   "execution_count": 5,
   "metadata": {},
   "outputs": [
    {
     "name": "stdout",
     "output_type": "stream",
     "text": [
      "Enter a character : y\n",
      "y  is not vowel\n"
     ]
    }
   ],
   "source": [
    "#Q6\n",
    "vara=input(\"Enter a character : \")\n",
    "setc = ['a','e','i','o','u','A','E','I','O','U']\n",
    "if vara in setc:\n",
    "    print(vara,\" is vowel\")\n",
    "else:\n",
    "    print(vara,\" is not vowel\")"
   ]
  },
  {
   "cell_type": "code",
   "execution_count": 8,
   "metadata": {},
   "outputs": [
    {
     "name": "stdout",
     "output_type": "stream",
     "text": [
      "Enter a string : qwerty\n",
      "w r y "
     ]
    }
   ],
   "source": [
    "#Q7\n",
    "stra=input(\"Enter a string : \")\n",
    "for i in range(len(stra)):\n",
    "    if i % 2==0:\n",
    "        print(stra[i+1],end=' ')"
   ]
  },
  {
   "cell_type": "code",
   "execution_count": 9,
   "metadata": {},
   "outputs": [
    {
     "name": "stdout",
     "output_type": "stream",
     "text": [
      "Enter the limit10\n",
      "Enter the numbers10\n",
      "Enter the numbers11\n",
      "Enter the numbers20\n",
      "Enter the numbers21\n",
      "Enter the numbers30\n",
      "Enter the numbers35\n",
      "Enter the numbers65\n",
      "Enter the numbers80\n",
      "Enter the numbers90\n",
      "Enter the numbers101\n",
      "10\n",
      "20\n",
      "30\n",
      "80\n",
      "90\n"
     ]
    }
   ],
   "source": [
    "#Q9\n",
    "lista = []\n",
    "limit = eval(input(\"Enter the limit\"))\n",
    "for i in range(limit):\n",
    "    temp=eval(input(\"Enter the numbers\"))\n",
    "    lista.append(temp)\n",
    "for i in range(limit):\n",
    "    if lista[i]%10==0:\n",
    "        print(lista[i])"
   ]
  },
  {
   "cell_type": "code",
   "execution_count": 8,
   "metadata": {},
   "outputs": [
    {
     "name": "stdout",
     "output_type": "stream",
     "text": [
      "Enter the limit5\n",
      "Enter the numbers1\n",
      "Enter the numbers2\n",
      "Enter the numbers3\n",
      "Enter the numbers4\n",
      "Enter the numbers5\n",
      "The first and the last element of the list are not same\n"
     ]
    }
   ],
   "source": [
    "#Q10\n",
    "lista = []\n",
    "limit = eval(input(\"Enter the limit\"))\n",
    "for i in range(limit):\n",
    "    temp=eval(input(\"Enter the numbers\"))\n",
    "    lista.append(temp)\n",
    "if (lista[0]==lista[-1]):\n",
    "    print(\"The first and the last element of the list are same\")\n",
    "else:\n",
    "    print(\"The first and the last element of the list are not same\")"
   ]
  },
  {
   "cell_type": "code",
   "execution_count": 12,
   "metadata": {},
   "outputs": [
    {
     "name": "stdout",
     "output_type": "stream",
     "text": [
      "Enter a string : fgvrcfdf cfc fc cr c few\n",
      "fgvrcfdf_cfc_fc_cr_c_few"
     ]
    }
   ],
   "source": [
    "#Q11\n",
    "stra=input(\"Enter a string : \")\n",
    "for i in range(len(stra)):\n",
    "    if stra[i].isspace():\n",
    "        print('_',end='')\n",
    "    else:\n",
    "        print(stra[i],end='')\n",
    "        "
   ]
  },
  {
   "cell_type": "code",
   "execution_count": 24,
   "metadata": {},
   "outputs": [
    {
     "name": "stdout",
     "output_type": "stream",
     "text": [
      "Enter a string : malayalam\n",
      "The entered string is pallindrome\n"
     ]
    }
   ],
   "source": [
    "#Q12\n",
    "stra=input(\"Enter a string : \")\n",
    "if (stra==stra[::-1]):\n",
    "    print(\"The entered string is pallindrome\")\n",
    "else:\n",
    "    print(\"The entered string is not pallindrome\")"
   ]
  },
  {
   "cell_type": "code",
   "execution_count": 1,
   "metadata": {},
   "outputs": [
    {
     "name": "stdout",
     "output_type": "stream",
     "text": [
      "Enter the limit : 10\n",
      "Thr fibonicci series is : \n",
      "0\n",
      "1\n",
      "1\n",
      "2\n",
      "3\n",
      "5\n",
      "8\n",
      "13\n",
      "21\n",
      "34\n"
     ]
    }
   ],
   "source": [
    "#Q13\n",
    "limit = eval(input(\"Enter the limit : \"))\n",
    "a,b=0,1\n",
    "c=a+b\n",
    "print(\"Thr fibonicci series is : \")\n",
    "print(a)\n",
    "print(b)\n",
    "print(c)\n",
    "for i in range(3,limit):\n",
    "    a=b\n",
    "    b=c\n",
    "    c=a+b\n",
    "    print(c)"
   ]
  },
  {
   "cell_type": "code",
   "execution_count": 16,
   "metadata": {},
   "outputs": [
    {
     "name": "stdout",
     "output_type": "stream",
     "text": [
      "Enter the original string : asdfgh\n",
      "Enter the string to be appended string : qwe\n",
      "The new string is :\n",
      "asdqwefgh"
     ]
    }
   ],
   "source": [
    "#14\n",
    "stra=input(\"Enter the original string : \")\n",
    "strb=input(\"Enter the string to be appended string : \")\n",
    "c = int(len(stra)/2)\n",
    "print(\"The new string is :\")\n",
    "print (stra[:c],end='')\n",
    "print(strb,end='')\n",
    "print(stra[(c):],end='')"
   ]
  },
  {
   "cell_type": "code",
   "execution_count": 20,
   "metadata": {},
   "outputs": [
    {
     "name": "stdout",
     "output_type": "stream",
     "text": [
      "1 \n",
      "1 2 \n",
      "1 2 3 \n",
      "1 2 3 4 \n",
      "1 2 3 4 5 \n"
     ]
    }
   ],
   "source": [
    "#15\n",
    "for i in range(1,6):\n",
    "    for j in range(1,i+1):\n",
    "        print (j,end=' ')\n",
    "    print()"
   ]
  },
  {
   "cell_type": "code",
   "execution_count": 25,
   "metadata": {},
   "outputs": [
    {
     "name": "stdout",
     "output_type": "stream",
     "text": [
      "Enter the string : geeks for geeks is good\n",
      "The modified string is\n",
      "geeks"
     ]
    }
   ],
   "source": [
    "#16\n",
    "strb=input(\"Enter the string : \")\n",
    "length =int(0.25*len(strb))\n",
    "print(\"The modified string is\")\n",
    "print(strb[0:length],end='')\n"
   ]
  },
  {
   "cell_type": "code",
   "execution_count": 33,
   "metadata": {},
   "outputs": [
    {
     "name": "stdout",
     "output_type": "stream",
     "text": [
      "Enter the limit9\n",
      "Enter the number : 1\n",
      "Enter the number : 2\n",
      "Enter the number : 3\n",
      "Enter the number : 4\n",
      "Enter the number : 5\n",
      "Enter the number : 6\n",
      "Enter the number : 7\n",
      "Enter the number : 8\n",
      "Enter the number : 9\n",
      "The middle number\n",
      "5\n"
     ]
    }
   ],
   "source": [
    "#17\n",
    "lista = []\n",
    "limit = eval(input(\"Enter the limit\"))\n",
    "for i in range(limit):\n",
    "    temp=eval(input(\"Enter the number : \"))\n",
    "    lista.append(temp)\n",
    "length = len(lista)\n",
    "c=int(length/2)\n",
    "if length%2==0:\n",
    "    print(\"Sum of middle two numbers\")\n",
    "    print(lista[c]+lista[c-1])\n",
    "else:\n",
    "    print(\"The middle number\")\n",
    "    print(lista[c])"
   ]
  },
  {
   "cell_type": "code",
   "execution_count": 18,
   "metadata": {},
   "outputs": [
    {
     "name": "stdout",
     "output_type": "stream",
     "text": [
      "Enter the limit of lista : 5\n",
      "Enter the number : 5\n",
      "Enter the number : 4\n",
      "Enter the number : 3\n",
      "Enter the number : 2\n",
      "Enter the number : 1\n",
      "Enter the limit of listb : 3\n",
      "Enter the number : 99\n",
      "Enter the number : 88\n",
      "Enter the number : 1\n",
      "1\n"
     ]
    }
   ],
   "source": [
    "#18\n",
    "lista = []\n",
    "limita = eval(input(\"Enter the limit of lista : \"))\n",
    "for i in range(limita):\n",
    "    temp=eval(input(\"Enter the number : \"))\n",
    "    lista.append(temp)\n",
    "listb=[]\n",
    "limitb = eval(input(\"Enter the limit of listb : \"))\n",
    "for i in range(limitb):\n",
    "    temp=eval(input(\"Enter the number : \"))\n",
    "    listb.append(temp)   \n",
    "for i in listb:\n",
    "    if i in lista:\n",
    "        print(i)\n"
   ]
  },
  {
   "cell_type": "code",
   "execution_count": 4,
   "metadata": {},
   "outputs": [
    {
     "name": "stdout",
     "output_type": "stream",
     "text": [
      "Enter the year : 2020\n",
      "2020  is leap year\n"
     ]
    }
   ],
   "source": [
    "#19\n",
    "year = eval(input(\"Enter the year : \"))\n",
    "if(year%4==0):\n",
    "    print(year,\" is leap year\")\n",
    "else:\n",
    "    print(year,' is not leap year')"
   ]
  },
  {
   "cell_type": "code",
   "execution_count": 8,
   "metadata": {},
   "outputs": [
    {
     "name": "stdout",
     "output_type": "stream",
     "text": [
      "Enter the number : 10\n",
      "10  is not prime number\n"
     ]
    }
   ],
   "source": [
    "#20\n",
    "number = eval(input(\"Enter the number : \"))\n",
    "c=0\n",
    "for i in range(1,number+1):\n",
    "    if number%i==0:\n",
    "        c=c+1\n",
    "if c==2:\n",
    "    print(number,\" is prime number\")\n",
    "else:\n",
    "    print(number,\" is not prime number\")\n"
   ]
  },
  {
   "cell_type": "code",
   "execution_count": 6,
   "metadata": {},
   "outputs": [
    {
     "name": "stdout",
     "output_type": "stream",
     "text": [
      "5\n",
      "6\n",
      "7\n",
      "dict_values([1, 2, 3, 4])\n"
     ]
    }
   ],
   "source": [
    "#21\n",
    "dicta={}\n",
    "dictb={}\n",
    "dicta[0]=1\n",
    "dicta[1]=2\n",
    "dicta[2]=3\n",
    "dicta[3]=4\n",
    "dictb[4]=5\n",
    "dictb[5]=6\n",
    "dictb[6]=7\n",
    "dictb[7]=dicta\n",
    "\n",
    "for v in dictb.values():\n",
    "    if isinstance(v,dict):\n",
    "        print(v.values())\n",
    "    else:\n",
    "        print(v)"
   ]
  },
  {
   "cell_type": "code",
   "execution_count": 10,
   "metadata": {},
   "outputs": [],
   "source": [
    "#22\n",
    "n=input()\n",
    "lista=[]\n",
    "for i in range(int(n)):\n",
    "    lista.append(input())\n",
    "dictionary={}\n",
    "for i in range(int(n)):\n",
    "    if lista[i] in dictionary:\n",
    "        dictionary[lista[i]]=dictionary.get(lista[i])+1\n",
    "    else:\n",
    "        dictionary[lista[i]]=1\n",
    "for w in sorted(dictionary, key=dictionary.get, reverse=True):\n",
    "      print (w)"
   ]
  },
  {
   "cell_type": "code",
   "execution_count": 20,
   "metadata": {},
   "outputs": [
    {
     "name": "stdout",
     "output_type": "stream",
     "text": [
      "Enter the limit of lista : 5\n",
      "Enter the number : 1\n",
      "Enter the number : 2\n",
      "Enter the number : 2\n",
      "Enter the number : 3\n",
      "Enter the number : 3\n",
      "The new tuple is\n",
      "(1, 2, 3)\n",
      "The maximum value of the tuple is :  3\n",
      "The minimum value of the tuple is :  1\n"
     ]
    }
   ],
   "source": [
    "#23\n",
    "lista = []\n",
    "t1=[]\n",
    "t2=()\n",
    "limita = eval(input(\"Enter the limit of lista : \"))\n",
    "for i in range(limita):\n",
    "    temp=eval(input(\"Enter the number : \"))\n",
    "    lista.append(temp)\n",
    "for i in lista:\n",
    "    if i not in t1:\n",
    "        t1.append(i)\n",
    "t2=tuple(t1)\n",
    "print(\"The new tuple is\")\n",
    "print(t2)\n",
    "print(\"The maximum value of the tuple is : \",max(t2))  \n",
    "print(\"The minimum value of the tuple is : \",min(t2)) \n",
    "        \n"
   ]
  },
  {
   "cell_type": "code",
   "execution_count": 22,
   "metadata": {},
   "outputs": [
    {
     "name": "stdout",
     "output_type": "stream",
     "text": [
      "The total amount is: 2000.0\n"
     ]
    }
   ],
   "source": [
    "#24\n",
    "def bank(p,yr,i=8):\n",
    "    amt=0\n",
    "    si=(p*yr*i)/100\n",
    "    amt=amt+si\n",
    "    print(\"The total amount is:\", amt) \n",
    "    \n",
    "bank(5000,5)"
   ]
  },
  {
   "cell_type": "code",
   "execution_count": null,
   "metadata": {},
   "outputs": [],
   "source": []
  }
 ],
 "metadata": {
  "kernelspec": {
   "display_name": "Python 3",
   "language": "python",
   "name": "python3"
  }
 },
 "nbformat": 4,
 "nbformat_minor": 2
}
