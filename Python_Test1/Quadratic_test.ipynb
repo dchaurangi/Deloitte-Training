{
 "cells": [
  {
   "cell_type": "code",
   "execution_count": 2,
   "metadata": {},
   "outputs": [
    {
     "name": "stdout",
     "output_type": "stream",
     "text": [
      "Enter the equation : 1x2+4x+5=0\n",
      "Has two complex roots:\n",
      "(-2+1j),(-2-1j)\n"
     ]
    }
   ],
   "source": [
    "from math import sqrt\n",
    "import cmath\n",
    "eq=input(\"Enter the equation : \")\n",
    "#User enters the quadratic equation\n",
    "stra=eq.split('+')\n",
    "a=stra[0].split('x')\n",
    "vara=int(a[0])    #the coefficient 'a' gets stored in vara\n",
    "b=stra[1].split('x')\n",
    "varb=int(b[0])    #the coefficient 'b' gets stored in varb\n",
    "c=stra[2].split('=')\n",
    "varc=int(c[0])    #the coefficient 'c' gets stored in varc\n",
    "d = varb**2 - 4*vara*varc     #Calculation of the discriminant\n",
    "if d > 0:\n",
    "    x1 = (((-varb) + sqrt(d))/(2*vara))     \n",
    "    x2 = (((-varb) - sqrt(d))/(2*vara))\n",
    "    print(\"There are 2 roots: %f and %f\" % (x1, x2))\n",
    "elif d == 0:\n",
    "    x = (-varb) / 2*vara\n",
    "    print(\"There is one root: \", x)\n",
    "else:\n",
    "    cx1 = (-varb + cmath.sqrt(d))/ (2 * vara)\n",
    "    cx2 = (-varb - cmath.sqrt(d))/ (2 * vara)\n",
    "    print('Has two complex roots:')\n",
    "    print(cx1,end=',')\n",
    "    print(cx2)"
   ]
  },
  {
   "cell_type": "code",
   "execution_count": null,
   "metadata": {},
   "outputs": [],
   "source": []
  },
  {
   "cell_type": "code",
   "execution_count": null,
   "metadata": {},
   "outputs": [],
   "source": []
  }
 ],
 "metadata": {
  "kernelspec": {
   "display_name": "Python 3",
   "language": "python",
   "name": "python3"
  },
  "language_info": {
   "codemirror_mode": {
    "name": "ipython",
    "version": 3
   },
   "file_extension": ".py",
   "mimetype": "text/x-python",
   "name": "python",
   "nbconvert_exporter": "python",
   "pygments_lexer": "ipython3",
   "version": "3.7.4"
  }
 },
 "nbformat": 4,
 "nbformat_minor": 2
}
